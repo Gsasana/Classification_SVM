{
 "cells": [
  {
   "cell_type": "markdown",
   "metadata": {},
   "source": [
    "# Scikit-learn : Modèles de classification \n",
    "Classification de vins à l'aide des *Support Vector Machine* (SVM)"
   ]
  },
  {
   "cell_type": "markdown",
   "metadata": {},
   "source": [
    "# Préparation et modélisation des données"
   ]
  },
  {
   "cell_type": "code",
   "execution_count": 1,
   "metadata": {},
   "outputs": [],
   "source": [
    "import numpy as np\n",
    "import pandas as pd\n",
    "from sklearn import svm\n",
    "from sklearn import model_selection\n",
    "from sklearn.model_selection import train_test_split\n",
    "from sklearn import preprocessing\n",
    "\n",
    "wine = pd.read_csv('wine.csv')"
   ]
  },
  {
   "cell_type": "code",
   "execution_count": 2,
   "metadata": {},
   "outputs": [
    {
     "name": "stdout",
     "output_type": "stream",
     "text": [
      "<class 'pandas.core.frame.DataFrame'>\n",
      "RangeIndex: 178 entries, 0 to 177\n",
      "Data columns (total 14 columns):\n",
      " #   Column                Non-Null Count  Dtype  \n",
      "---  ------                --------------  -----  \n",
      " 0   Wine                  178 non-null    int64  \n",
      " 1   Alcohol               178 non-null    float64\n",
      " 2   Malic.acid            178 non-null    float64\n",
      " 3   Ash                   178 non-null    float64\n",
      " 4   Acl                   178 non-null    float64\n",
      " 5   Mg                    178 non-null    int64  \n",
      " 6   Phenols               178 non-null    float64\n",
      " 7   Flavanoids            178 non-null    float64\n",
      " 8   Nonflavanoid.phenols  178 non-null    float64\n",
      " 9   Proanth               178 non-null    float64\n",
      " 10  Color.int             178 non-null    float64\n",
      " 11  Hue                   178 non-null    float64\n",
      " 12  OD                    178 non-null    float64\n",
      " 13  Proline               178 non-null    int64  \n",
      "dtypes: float64(11), int64(3)\n",
      "memory usage: 19.6 KB\n"
     ]
    }
   ],
   "source": [
    "# Affichage des informations du DataFrame\n",
    "wine.info()"
   ]
  },
  {
   "cell_type": "code",
   "execution_count": 3,
   "metadata": {},
   "outputs": [
    {
     "data": {
      "text/html": [
       "<div>\n",
       "<style scoped>\n",
       "    .dataframe tbody tr th:only-of-type {\n",
       "        vertical-align: middle;\n",
       "    }\n",
       "\n",
       "    .dataframe tbody tr th {\n",
       "        vertical-align: top;\n",
       "    }\n",
       "\n",
       "    .dataframe thead th {\n",
       "        text-align: right;\n",
       "    }\n",
       "</style>\n",
       "<table border=\"1\" class=\"dataframe\">\n",
       "  <thead>\n",
       "    <tr style=\"text-align: right;\">\n",
       "      <th></th>\n",
       "      <th>Wine</th>\n",
       "      <th>Alcohol</th>\n",
       "      <th>Malic.acid</th>\n",
       "      <th>Ash</th>\n",
       "      <th>Acl</th>\n",
       "      <th>Mg</th>\n",
       "      <th>Phenols</th>\n",
       "      <th>Flavanoids</th>\n",
       "      <th>Nonflavanoid.phenols</th>\n",
       "      <th>Proanth</th>\n",
       "      <th>Color.int</th>\n",
       "      <th>Hue</th>\n",
       "      <th>OD</th>\n",
       "      <th>Proline</th>\n",
       "    </tr>\n",
       "  </thead>\n",
       "  <tbody>\n",
       "    <tr>\n",
       "      <th>0</th>\n",
       "      <td>1</td>\n",
       "      <td>14.23</td>\n",
       "      <td>1.71</td>\n",
       "      <td>2.43</td>\n",
       "      <td>15.6</td>\n",
       "      <td>127</td>\n",
       "      <td>2.80</td>\n",
       "      <td>3.06</td>\n",
       "      <td>0.28</td>\n",
       "      <td>2.29</td>\n",
       "      <td>5.64</td>\n",
       "      <td>1.04</td>\n",
       "      <td>3.92</td>\n",
       "      <td>1065</td>\n",
       "    </tr>\n",
       "    <tr>\n",
       "      <th>1</th>\n",
       "      <td>1</td>\n",
       "      <td>13.20</td>\n",
       "      <td>1.78</td>\n",
       "      <td>2.14</td>\n",
       "      <td>11.2</td>\n",
       "      <td>100</td>\n",
       "      <td>2.65</td>\n",
       "      <td>2.76</td>\n",
       "      <td>0.26</td>\n",
       "      <td>1.28</td>\n",
       "      <td>4.38</td>\n",
       "      <td>1.05</td>\n",
       "      <td>3.40</td>\n",
       "      <td>1050</td>\n",
       "    </tr>\n",
       "    <tr>\n",
       "      <th>2</th>\n",
       "      <td>1</td>\n",
       "      <td>13.16</td>\n",
       "      <td>2.36</td>\n",
       "      <td>2.67</td>\n",
       "      <td>18.6</td>\n",
       "      <td>101</td>\n",
       "      <td>2.80</td>\n",
       "      <td>3.24</td>\n",
       "      <td>0.30</td>\n",
       "      <td>2.81</td>\n",
       "      <td>5.68</td>\n",
       "      <td>1.03</td>\n",
       "      <td>3.17</td>\n",
       "      <td>1185</td>\n",
       "    </tr>\n",
       "    <tr>\n",
       "      <th>3</th>\n",
       "      <td>1</td>\n",
       "      <td>14.37</td>\n",
       "      <td>1.95</td>\n",
       "      <td>2.50</td>\n",
       "      <td>16.8</td>\n",
       "      <td>113</td>\n",
       "      <td>3.85</td>\n",
       "      <td>3.49</td>\n",
       "      <td>0.24</td>\n",
       "      <td>2.18</td>\n",
       "      <td>7.80</td>\n",
       "      <td>0.86</td>\n",
       "      <td>3.45</td>\n",
       "      <td>1480</td>\n",
       "    </tr>\n",
       "    <tr>\n",
       "      <th>4</th>\n",
       "      <td>1</td>\n",
       "      <td>13.24</td>\n",
       "      <td>2.59</td>\n",
       "      <td>2.87</td>\n",
       "      <td>21.0</td>\n",
       "      <td>118</td>\n",
       "      <td>2.80</td>\n",
       "      <td>2.69</td>\n",
       "      <td>0.39</td>\n",
       "      <td>1.82</td>\n",
       "      <td>4.32</td>\n",
       "      <td>1.04</td>\n",
       "      <td>2.93</td>\n",
       "      <td>735</td>\n",
       "    </tr>\n",
       "    <tr>\n",
       "      <th>5</th>\n",
       "      <td>1</td>\n",
       "      <td>14.20</td>\n",
       "      <td>1.76</td>\n",
       "      <td>2.45</td>\n",
       "      <td>15.2</td>\n",
       "      <td>112</td>\n",
       "      <td>3.27</td>\n",
       "      <td>3.39</td>\n",
       "      <td>0.34</td>\n",
       "      <td>1.97</td>\n",
       "      <td>6.75</td>\n",
       "      <td>1.05</td>\n",
       "      <td>2.85</td>\n",
       "      <td>1450</td>\n",
       "    </tr>\n",
       "    <tr>\n",
       "      <th>6</th>\n",
       "      <td>1</td>\n",
       "      <td>14.39</td>\n",
       "      <td>1.87</td>\n",
       "      <td>2.45</td>\n",
       "      <td>14.6</td>\n",
       "      <td>96</td>\n",
       "      <td>2.50</td>\n",
       "      <td>2.52</td>\n",
       "      <td>0.30</td>\n",
       "      <td>1.98</td>\n",
       "      <td>5.25</td>\n",
       "      <td>1.02</td>\n",
       "      <td>3.58</td>\n",
       "      <td>1290</td>\n",
       "    </tr>\n",
       "    <tr>\n",
       "      <th>7</th>\n",
       "      <td>1</td>\n",
       "      <td>14.06</td>\n",
       "      <td>2.15</td>\n",
       "      <td>2.61</td>\n",
       "      <td>17.6</td>\n",
       "      <td>121</td>\n",
       "      <td>2.60</td>\n",
       "      <td>2.51</td>\n",
       "      <td>0.31</td>\n",
       "      <td>1.25</td>\n",
       "      <td>5.05</td>\n",
       "      <td>1.06</td>\n",
       "      <td>3.58</td>\n",
       "      <td>1295</td>\n",
       "    </tr>\n",
       "    <tr>\n",
       "      <th>8</th>\n",
       "      <td>1</td>\n",
       "      <td>14.83</td>\n",
       "      <td>1.64</td>\n",
       "      <td>2.17</td>\n",
       "      <td>14.0</td>\n",
       "      <td>97</td>\n",
       "      <td>2.80</td>\n",
       "      <td>2.98</td>\n",
       "      <td>0.29</td>\n",
       "      <td>1.98</td>\n",
       "      <td>5.20</td>\n",
       "      <td>1.08</td>\n",
       "      <td>2.85</td>\n",
       "      <td>1045</td>\n",
       "    </tr>\n",
       "    <tr>\n",
       "      <th>9</th>\n",
       "      <td>1</td>\n",
       "      <td>13.86</td>\n",
       "      <td>1.35</td>\n",
       "      <td>2.27</td>\n",
       "      <td>16.0</td>\n",
       "      <td>98</td>\n",
       "      <td>2.98</td>\n",
       "      <td>3.15</td>\n",
       "      <td>0.22</td>\n",
       "      <td>1.85</td>\n",
       "      <td>7.22</td>\n",
       "      <td>1.01</td>\n",
       "      <td>3.55</td>\n",
       "      <td>1045</td>\n",
       "    </tr>\n",
       "  </tbody>\n",
       "</table>\n",
       "</div>"
      ],
      "text/plain": [
       "   Wine  Alcohol  Malic.acid   Ash   Acl   Mg  Phenols  Flavanoids  \\\n",
       "0     1    14.23        1.71  2.43  15.6  127     2.80        3.06   \n",
       "1     1    13.20        1.78  2.14  11.2  100     2.65        2.76   \n",
       "2     1    13.16        2.36  2.67  18.6  101     2.80        3.24   \n",
       "3     1    14.37        1.95  2.50  16.8  113     3.85        3.49   \n",
       "4     1    13.24        2.59  2.87  21.0  118     2.80        2.69   \n",
       "5     1    14.20        1.76  2.45  15.2  112     3.27        3.39   \n",
       "6     1    14.39        1.87  2.45  14.6   96     2.50        2.52   \n",
       "7     1    14.06        2.15  2.61  17.6  121     2.60        2.51   \n",
       "8     1    14.83        1.64  2.17  14.0   97     2.80        2.98   \n",
       "9     1    13.86        1.35  2.27  16.0   98     2.98        3.15   \n",
       "\n",
       "   Nonflavanoid.phenols  Proanth  Color.int   Hue    OD  Proline  \n",
       "0                  0.28     2.29       5.64  1.04  3.92     1065  \n",
       "1                  0.26     1.28       4.38  1.05  3.40     1050  \n",
       "2                  0.30     2.81       5.68  1.03  3.17     1185  \n",
       "3                  0.24     2.18       7.80  0.86  3.45     1480  \n",
       "4                  0.39     1.82       4.32  1.04  2.93      735  \n",
       "5                  0.34     1.97       6.75  1.05  2.85     1450  \n",
       "6                  0.30     1.98       5.25  1.02  3.58     1290  \n",
       "7                  0.31     1.25       5.05  1.06  3.58     1295  \n",
       "8                  0.29     1.98       5.20  1.08  2.85     1045  \n",
       "9                  0.22     1.85       7.22  1.01  3.55     1045  "
      ]
     },
     "execution_count": 3,
     "metadata": {},
     "output_type": "execute_result"
    }
   ],
   "source": [
    "wine.head(10)"
   ]
  },
  {
   "cell_type": "markdown",
   "metadata": {},
   "source": [
    "Le DataFrame wine contient 14 colonnes. La classe de chaque vin est présente dans le première colonne ‘Wine’, les autres colonnes représentent la quantité des différentes composantes chimiques des vins. \n",
    "Aucune donnée n’est manquant. \n"
   ]
  },
  {
   "cell_type": "markdown",
   "metadata": {},
   "source": [
    "Remarquons que toutes les variables sont numérique mais des variables ont des échelles très différentes, il conviendra donc de les standardiser"
   ]
  },
  {
   "cell_type": "code",
   "execution_count": 4,
   "metadata": {},
   "outputs": [],
   "source": [
    "# variable de stockage des features\n",
    "data = wine.iloc[:, 1:14]\n",
    "\n",
    "# Variable des données cibles\n",
    "target = wine.iloc[:, 0]"
   ]
  },
  {
   "cell_type": "code",
   "execution_count": 5,
   "metadata": {},
   "outputs": [],
   "source": [
    "# Décomposition des données en deux ensembles d'entraînement et de test\n",
    "# par défaut l'échantillon est aléatoirement réparti\n",
    "X_train, X_test, y_train, y_test = train_test_split(data, target, test_size=0.2)"
   ]
  },
  {
   "cell_type": "markdown",
   "metadata": {},
   "source": [
    "L'étape suivante est donc la Standardisation. La standardisation, ou normalisation des données est le processus de soustraction de la moyenne pour chaque variable, puis de leur division par l'écart type.\n",
    "\n",
    "Centrer-réduire les variables les transformera en unités compatibles avec distribution de moyenne 0 et d'écart-type 1, indépendantes de leurs distributions et unités de mesures originales."
   ]
  },
  {
   "cell_type": "code",
   "execution_count": 6,
   "metadata": {},
   "outputs": [
    {
     "name": "stdout",
     "output_type": "stream",
     "text": [
      "[-6.12968205e-16 -1.68878995e-16  2.93974547e-16  1.02891092e-15\n",
      " -4.37834432e-16  3.44012768e-17  9.69490529e-17  8.28758032e-16\n",
      " -1.37605107e-16  8.75668864e-17  4.47216599e-16  5.82476164e-16\n",
      " -1.50114662e-16]\n",
      "[1. 1. 1. 1. 1. 1. 1. 1. 1. 1. 1. 1. 1.]\n"
     ]
    }
   ],
   "source": [
    "# Tblaue contenant les données centrées réduite de X_train\n",
    "X_train_scaled = preprocessing.scale(X_train)\n",
    "\n",
    "# Affichage de la moyenne et ecart type de X_Train_scaled\n",
    "print(X_train_scaled.mean(axis=0))\n",
    "print(X_train_scaled.std(axis=0))"
   ]
  },
  {
   "cell_type": "markdown",
   "metadata": {},
   "source": [
    "Le nouveau tableau est donc bien standardisé, cependant cette méthode simple de preprocessing n'est pas toujours celle à préférer dans le cas d'une application réelle.\n",
    "\n",
    "Pourquoi ? Pour la simple raison qu'il n'est pas possible d'appliquer cette même transformation à un échantillon de test, ou à des données nouvelles.\n",
    "Il est possible évidemment de centrer et réduire n'importe quel échantillon de la même manière, mais avec une moyenne et un écart type qui seront différents de ceux utilisés sur l'ensemble d'entraînement\n",
    "Les résultats obtenus ne seraient pas une juste représentation de la performance du modèle dans son ensemble, lorsqu'il sera appliqué à de nouvelles données.\n",
    "\n",
    "Donc, plutôt que d'appliquer directement la fonction de normalisation, il est préférable d'utiliser une fonctionnalité de Scikit-Learn appelée Transformer API, qui vous permettra d'ajuster (fit) une étape de preprocessing en utilisant les données d'entraînement.\n",
    "Ainsi lorsque la normalisation, par exemple, sera appliquée à d'autres échantillons, elle utilisera les mêmes moyennes et écart-types sauvegardés.\n",
    "\n",
    "Pour créer cette étape de preprocessing 'ajustée' il suffit d'utiliser la fonction StandardScaler puis de l'ajuster grâce à aux données d'entraînement, de cette façon :\n",
    "\n",
    "scaler = preprocessing.StandardScaler().fit(X_train)\n",
    "Pour l'appliquer à un tableau de données par la suite il faudra simplement lui appliquer scaler.transform())"
   ]
  },
  {
   "cell_type": "code",
   "execution_count": 7,
   "metadata": {},
   "outputs": [],
   "source": [
    "# Création d'un objet scaler appliquer à X_train\n",
    "scaler = preprocessing.StandardScaler().fit(X_train)\n",
    "\n",
    "# Tableau qui retourne X_train_Scaled centré-réduit\n",
    "X_train_scaled = scaler.transform(X_train)"
   ]
  },
  {
   "cell_type": "code",
   "execution_count": 8,
   "metadata": {},
   "outputs": [
    {
     "name": "stdout",
     "output_type": "stream",
     "text": [
      "[-6.12968205e-16 -1.68878995e-16  2.93974547e-16  1.02891092e-15\n",
      " -4.37834432e-16  3.44012768e-17  9.69490529e-17  8.28758032e-16\n",
      " -1.37605107e-16  8.75668864e-17  4.47216599e-16  5.82476164e-16\n",
      " -1.50114662e-16]\n",
      "[1. 1. 1. 1. 1. 1. 1. 1. 1. 1. 1. 1. 1.]\n"
     ]
    }
   ],
   "source": [
    "# Affichage moyenne et écart type des colonnes de X_train_scaled\n",
    "print(X_train_scaled.mean(axis=0))\n",
    "print(X_train_scaled.std(axis=0))"
   ]
  },
  {
   "cell_type": "code",
   "execution_count": 9,
   "metadata": {},
   "outputs": [
    {
     "name": "stdout",
     "output_type": "stream",
     "text": [
      "[-0.49678451 -0.07379596  0.28556323  0.51783944  0.40159816 -0.19948901\n",
      " -0.13453756  0.22476195 -0.22485248 -0.05964115 -0.23545684 -0.21293145\n",
      " -0.46462666]\n",
      "[0.85147075 0.85107895 1.28806675 1.11518476 1.11835091 0.87062408\n",
      " 1.01186547 1.02844859 0.95662152 1.0091224  0.98778105 0.99201677\n",
      " 0.72686037]\n"
     ]
    }
   ],
   "source": [
    "# Tableai qui retourne X_test_scaled\n",
    "X_test_scaled = scaler.transform(X_test)\n",
    "\n",
    " #Affichage moyenne et écart type de X_test_scaled\n",
    "print(X_test_scaled.mean(axis=0))\n",
    "print(X_test_scaled.std(axis=0))"
   ]
  },
  {
   "cell_type": "markdown",
   "metadata": {},
   "source": [
    "Comme il fallait s'y attendre, les variables normalisées dans l'échantillon de test ne sont pas parfaitement centrées en zéro et de variance égale à 1, car nous transformons l'ensemble de test en utilisant les moyennes de l'ensemble d'apprentissage, et non pas de l'ensemble de test lui-même"
   ]
  },
  {
   "cell_type": "markdown",
   "metadata": {},
   "source": [
    "# Classification par machines à vecteurs de support"
   ]
  },
  {
   "cell_type": "markdown",
   "metadata": {},
   "source": [
    "Les séparateurs à vastes marges sont des classifieurs qui reposent sur deux idées clés, qui permettent de traiter des problèmes de discrimination non linéaire, et de reformuler le problème de classement comme un problème d'optimisation quadratique.\n",
    "\n",
    "La résolution du problème de classification passe par la construction d'une fonction  ℎ\n",
    "  qui à un vecteur d'entrée  𝑥\n",
    "  fait correspondre une sortie  𝑦\n",
    "  :  𝑦=ℎ(𝑥)\n",
    " . Le principe des SVM est le même pour la classification à l'aide de la régression logistique."
   ]
  },
  {
   "cell_type": "code",
   "execution_count": 10,
   "metadata": {},
   "outputs": [
    {
     "data": {
      "text/html": [
       "<style>#sk-container-id-1 {color: black;}#sk-container-id-1 pre{padding: 0;}#sk-container-id-1 div.sk-toggleable {background-color: white;}#sk-container-id-1 label.sk-toggleable__label {cursor: pointer;display: block;width: 100%;margin-bottom: 0;padding: 0.3em;box-sizing: border-box;text-align: center;}#sk-container-id-1 label.sk-toggleable__label-arrow:before {content: \"▸\";float: left;margin-right: 0.25em;color: #696969;}#sk-container-id-1 label.sk-toggleable__label-arrow:hover:before {color: black;}#sk-container-id-1 div.sk-estimator:hover label.sk-toggleable__label-arrow:before {color: black;}#sk-container-id-1 div.sk-toggleable__content {max-height: 0;max-width: 0;overflow: hidden;text-align: left;background-color: #f0f8ff;}#sk-container-id-1 div.sk-toggleable__content pre {margin: 0.2em;color: black;border-radius: 0.25em;background-color: #f0f8ff;}#sk-container-id-1 input.sk-toggleable__control:checked~div.sk-toggleable__content {max-height: 200px;max-width: 100%;overflow: auto;}#sk-container-id-1 input.sk-toggleable__control:checked~label.sk-toggleable__label-arrow:before {content: \"▾\";}#sk-container-id-1 div.sk-estimator input.sk-toggleable__control:checked~label.sk-toggleable__label {background-color: #d4ebff;}#sk-container-id-1 div.sk-label input.sk-toggleable__control:checked~label.sk-toggleable__label {background-color: #d4ebff;}#sk-container-id-1 input.sk-hidden--visually {border: 0;clip: rect(1px 1px 1px 1px);clip: rect(1px, 1px, 1px, 1px);height: 1px;margin: -1px;overflow: hidden;padding: 0;position: absolute;width: 1px;}#sk-container-id-1 div.sk-estimator {font-family: monospace;background-color: #f0f8ff;border: 1px dotted black;border-radius: 0.25em;box-sizing: border-box;margin-bottom: 0.5em;}#sk-container-id-1 div.sk-estimator:hover {background-color: #d4ebff;}#sk-container-id-1 div.sk-parallel-item::after {content: \"\";width: 100%;border-bottom: 1px solid gray;flex-grow: 1;}#sk-container-id-1 div.sk-label:hover label.sk-toggleable__label {background-color: #d4ebff;}#sk-container-id-1 div.sk-serial::before {content: \"\";position: absolute;border-left: 1px solid gray;box-sizing: border-box;top: 0;bottom: 0;left: 50%;z-index: 0;}#sk-container-id-1 div.sk-serial {display: flex;flex-direction: column;align-items: center;background-color: white;padding-right: 0.2em;padding-left: 0.2em;position: relative;}#sk-container-id-1 div.sk-item {position: relative;z-index: 1;}#sk-container-id-1 div.sk-parallel {display: flex;align-items: stretch;justify-content: center;background-color: white;position: relative;}#sk-container-id-1 div.sk-item::before, #sk-container-id-1 div.sk-parallel-item::before {content: \"\";position: absolute;border-left: 1px solid gray;box-sizing: border-box;top: 0;bottom: 0;left: 50%;z-index: -1;}#sk-container-id-1 div.sk-parallel-item {display: flex;flex-direction: column;z-index: 1;position: relative;background-color: white;}#sk-container-id-1 div.sk-parallel-item:first-child::after {align-self: flex-end;width: 50%;}#sk-container-id-1 div.sk-parallel-item:last-child::after {align-self: flex-start;width: 50%;}#sk-container-id-1 div.sk-parallel-item:only-child::after {width: 0;}#sk-container-id-1 div.sk-dashed-wrapped {border: 1px dashed gray;margin: 0 0.4em 0.5em 0.4em;box-sizing: border-box;padding-bottom: 0.4em;background-color: white;}#sk-container-id-1 div.sk-label label {font-family: monospace;font-weight: bold;display: inline-block;line-height: 1.2em;}#sk-container-id-1 div.sk-label-container {text-align: center;}#sk-container-id-1 div.sk-container {/* jupyter's `normalize.less` sets `[hidden] { display: none; }` but bootstrap.min.css set `[hidden] { display: none !important; }` so we also need the `!important` here to be able to override the default hidden behavior on the sphinx rendered scikit-learn.org. See: https://github.com/scikit-learn/scikit-learn/issues/21755 */display: inline-block !important;position: relative;}#sk-container-id-1 div.sk-text-repr-fallback {display: none;}</style><div id=\"sk-container-id-1\" class=\"sk-top-container\"><div class=\"sk-text-repr-fallback\"><pre>SVC(gamma=0.01, kernel=&#x27;poly&#x27;)</pre><b>In a Jupyter environment, please rerun this cell to show the HTML representation or trust the notebook. <br />On GitHub, the HTML representation is unable to render, please try loading this page with nbviewer.org.</b></div><div class=\"sk-container\" hidden><div class=\"sk-item\"><div class=\"sk-estimator sk-toggleable\"><input class=\"sk-toggleable__control sk-hidden--visually\" id=\"sk-estimator-id-1\" type=\"checkbox\" checked><label for=\"sk-estimator-id-1\" class=\"sk-toggleable__label sk-toggleable__label-arrow\">SVC</label><div class=\"sk-toggleable__content\"><pre>SVC(gamma=0.01, kernel=&#x27;poly&#x27;)</pre></div></div></div></div></div>"
      ],
      "text/plain": [
       "SVC(gamma=0.01, kernel='poly')"
      ]
     },
     "execution_count": 10,
     "metadata": {},
     "output_type": "execute_result"
    }
   ],
   "source": [
    "clf =svm.SVC(gamma=0.01, kernel='poly')\n",
    "clf.fit(X_train_scaled, y_train)"
   ]
  },
  {
   "cell_type": "markdown",
   "metadata": {},
   "source": [
    "# Evaluation du modèle de classification\n"
   ]
  },
  {
   "cell_type": "markdown",
   "metadata": {},
   "source": [
    "Il est possible de calculer la prédiction pour les données présentes dans l'ensemble de test, et construire la matrice de confusion. "
   ]
  },
  {
   "cell_type": "code",
   "execution_count": 13,
   "metadata": {},
   "outputs": [
    {
     "data": {
      "text/html": [
       "<div>\n",
       "<style scoped>\n",
       "    .dataframe tbody tr th:only-of-type {\n",
       "        vertical-align: middle;\n",
       "    }\n",
       "\n",
       "    .dataframe tbody tr th {\n",
       "        vertical-align: top;\n",
       "    }\n",
       "\n",
       "    .dataframe thead th {\n",
       "        text-align: right;\n",
       "    }\n",
       "</style>\n",
       "<table border=\"1\" class=\"dataframe\">\n",
       "  <thead>\n",
       "    <tr style=\"text-align: right;\">\n",
       "      <th>Classe prédite</th>\n",
       "      <th>2</th>\n",
       "    </tr>\n",
       "    <tr>\n",
       "      <th>Classe réelle</th>\n",
       "      <th></th>\n",
       "    </tr>\n",
       "  </thead>\n",
       "  <tbody>\n",
       "    <tr>\n",
       "      <th>1</th>\n",
       "      <td>7</td>\n",
       "    </tr>\n",
       "    <tr>\n",
       "      <th>2</th>\n",
       "      <td>18</td>\n",
       "    </tr>\n",
       "    <tr>\n",
       "      <th>3</th>\n",
       "      <td>11</td>\n",
       "    </tr>\n",
       "  </tbody>\n",
       "</table>\n",
       "</div>"
      ],
      "text/plain": [
       "Classe prédite   2\n",
       "Classe réelle     \n",
       "1                7\n",
       "2               18\n",
       "3               11"
      ]
     },
     "execution_count": 13,
     "metadata": {},
     "output_type": "execute_result"
    }
   ],
   "source": [
    "y_pred = clf.predict(X_test_scaled)\n",
    "pd.crosstab(y_test, y_pred, rownames=['Classe réelle'], colnames=['Classe prédite'])"
   ]
  },
  {
   "cell_type": "markdown",
   "metadata": {},
   "source": [
    "La matrice de confusion montre que la totalité des vins de l'ensemble de test ont été classés comme appartenant à la classe 2, alors qu'elle ne contient en réalité qu'un tiers des vins de l'échantillon. Notre modèle est donc aussi performant qu'un modèle purement aléatoire qui attribuerait une classe en la choisissant au hasard uniformément.\n",
    "\n",
    "Est-ce le modèle qui est inapte sur ce type de données ou bien le paramétrage qui est inadapté ?\n",
    "\n",
    "De nombreux algorithmes de machine learning, comme les SVM, reposent sur des hyperparamètres qui ne sont pas toujours évidents à déterminer pour obtenir les meilleures performances sur un jeu de données à traiter.\n",
    "\n",
    "A la différence des paramètres simples du modèle qui découlent directement des données (par ex: les coefficients d'une régressions) les hyperparamètres permettent de décider de la structure du modèle et sont à régler avant l'entraînement de celui-ci.\n",
    "\n",
    "Dans la majorité des cas, lorsque plusieurs hyperparamètres sont à régler, et qu'on ne sait pas lesquelles utiliser pour obtenir le meilleur modèle possible, la stratégie la plus efficace consiste en la création d'une grille de recherche."
   ]
  },
  {
   "cell_type": "code",
   "execution_count": 14,
   "metadata": {},
   "outputs": [],
   "source": [
    "# Dictionnaire paramètres contenant les valeurs possibles prises pour C, kernel, et gamma\n",
    "parametres = {'C':[0.1,1,10], 'kernel':['rbf','linear', 'poly'], 'gamma':[0.001, 0.1, 0.5]}"
   ]
  },
  {
   "cell_type": "code",
   "execution_count": 16,
   "metadata": {},
   "outputs": [],
   "source": [
    "# Application fonction model_selection.GridSearchCV\n",
    "grid_clf = model_selection.GridSearchCV(estimator=clf, param_grid=parametres)"
   ]
  },
  {
   "cell_type": "code",
   "execution_count": 17,
   "metadata": {},
   "outputs": [],
   "source": [
    "# Entrainement grid_clf sur l'ensemble d'entrainement\n",
    "grille = grid_clf.fit(X_train_scaled,y_train)"
   ]
  },
  {
   "cell_type": "code",
   "execution_count": 18,
   "metadata": {},
   "outputs": [
    {
     "name": "stdout",
     "output_type": "stream",
     "text": [
      "                                            params  mean_test_score\n",
      "0      {'C': 0.1, 'gamma': 0.001, 'kernel': 'rbf'}         0.573645\n",
      "1   {'C': 0.1, 'gamma': 0.001, 'kernel': 'linear'}         0.985961\n",
      "2     {'C': 0.1, 'gamma': 0.001, 'kernel': 'poly'}         0.459360\n",
      "3        {'C': 0.1, 'gamma': 0.1, 'kernel': 'rbf'}         0.971921\n",
      "4     {'C': 0.1, 'gamma': 0.1, 'kernel': 'linear'}         0.985961\n",
      "5       {'C': 0.1, 'gamma': 0.1, 'kernel': 'poly'}         0.859360\n",
      "6        {'C': 0.1, 'gamma': 0.5, 'kernel': 'rbf'}         0.573645\n",
      "7     {'C': 0.1, 'gamma': 0.5, 'kernel': 'linear'}         0.985961\n",
      "8       {'C': 0.1, 'gamma': 0.5, 'kernel': 'poly'}         0.944335\n",
      "9        {'C': 1, 'gamma': 0.001, 'kernel': 'rbf'}         0.837685\n",
      "10    {'C': 1, 'gamma': 0.001, 'kernel': 'linear'}         0.979064\n",
      "11      {'C': 1, 'gamma': 0.001, 'kernel': 'poly'}         0.459360\n",
      "12         {'C': 1, 'gamma': 0.1, 'kernel': 'rbf'}         0.965271\n",
      "13      {'C': 1, 'gamma': 0.1, 'kernel': 'linear'}         0.979064\n",
      "14        {'C': 1, 'gamma': 0.1, 'kernel': 'poly'}         0.979064\n",
      "15         {'C': 1, 'gamma': 0.5, 'kernel': 'rbf'}         0.873645\n",
      "16      {'C': 1, 'gamma': 0.5, 'kernel': 'linear'}         0.979064\n",
      "17        {'C': 1, 'gamma': 0.5, 'kernel': 'poly'}         0.944335\n",
      "18      {'C': 10, 'gamma': 0.001, 'kernel': 'rbf'}         0.979064\n",
      "19   {'C': 10, 'gamma': 0.001, 'kernel': 'linear'}         0.979064\n",
      "20     {'C': 10, 'gamma': 0.001, 'kernel': 'poly'}         0.459360\n",
      "21        {'C': 10, 'gamma': 0.1, 'kernel': 'rbf'}         0.965271\n",
      "22     {'C': 10, 'gamma': 0.1, 'kernel': 'linear'}         0.979064\n",
      "23       {'C': 10, 'gamma': 0.1, 'kernel': 'poly'}         0.944335\n",
      "24        {'C': 10, 'gamma': 0.5, 'kernel': 'rbf'}         0.887685\n",
      "25     {'C': 10, 'gamma': 0.5, 'kernel': 'linear'}         0.979064\n",
      "26       {'C': 10, 'gamma': 0.5, 'kernel': 'poly'}         0.944335\n"
     ]
    }
   ],
   "source": [
    "# Affichage de toutes les combinaisons possibles d'hyperparamètres \n",
    "# et la performance moyenne du modèle associé par validation croisée.\n",
    "print(pd.DataFrame.from_dict(grille.cv_results_).loc[:,['params', 'mean_test_score']]) \n"
   ]
  },
  {
   "cell_type": "markdown",
   "metadata": {},
   "source": [
    "Les résultats semblent déjà bien meilleurs avec le paramètre 'gamma=0.1 ou 0.5' pour les kernels 'poly' que le paramètre gamma= 0.01.\n",
    "\n",
    "On remarque également que les scores moyens obtenus avec un kernel rbf lorsque le paramètre C est inférieur ou égal à 1 sont très variables. Mais certaines combinaisons de paramètres laissent penser qu'un noyau rbf serait plus adapté à nos données, puisque le taux moyen de bien classés surpasse les autres dans certains cas.\n",
    "\n",
    "Les modèles à noyaux linéaires sont quant à eux efficaces et plus constants puisque le taux de bien classés des modèles avec 'kernel':'linear' est bon, quelle que soit la valeur de C (le paramètre gamma n'intervient pas).\n",
    "\n",
    "L'attribut best_params_ du modèle créé permet d'afficher les paramètres ayant donné le meilleur score et retenus par défaut."
   ]
  },
  {
   "cell_type": "code",
   "execution_count": 20,
   "metadata": {},
   "outputs": [
    {
     "name": "stdout",
     "output_type": "stream",
     "text": [
      "{'C': 0.1, 'gamma': 0.001, 'kernel': 'linear'}\n"
     ]
    }
   ],
   "source": [
    "#Affichage des meilleurs paramètres de ma grille pour le modèle grid_clf\n",
    "print(grid_clf.best_params_)"
   ]
  },
  {
   "cell_type": "code",
   "execution_count": 21,
   "metadata": {},
   "outputs": [
    {
     "data": {
      "text/html": [
       "<div>\n",
       "<style scoped>\n",
       "    .dataframe tbody tr th:only-of-type {\n",
       "        vertical-align: middle;\n",
       "    }\n",
       "\n",
       "    .dataframe tbody tr th {\n",
       "        vertical-align: top;\n",
       "    }\n",
       "\n",
       "    .dataframe thead th {\n",
       "        text-align: right;\n",
       "    }\n",
       "</style>\n",
       "<table border=\"1\" class=\"dataframe\">\n",
       "  <thead>\n",
       "    <tr style=\"text-align: right;\">\n",
       "      <th>Classe prédite</th>\n",
       "      <th>1</th>\n",
       "      <th>2</th>\n",
       "      <th>3</th>\n",
       "    </tr>\n",
       "    <tr>\n",
       "      <th>Classe réelle</th>\n",
       "      <th></th>\n",
       "      <th></th>\n",
       "      <th></th>\n",
       "    </tr>\n",
       "  </thead>\n",
       "  <tbody>\n",
       "    <tr>\n",
       "      <th>1</th>\n",
       "      <td>7</td>\n",
       "      <td>0</td>\n",
       "      <td>0</td>\n",
       "    </tr>\n",
       "    <tr>\n",
       "      <th>2</th>\n",
       "      <td>0</td>\n",
       "      <td>17</td>\n",
       "      <td>1</td>\n",
       "    </tr>\n",
       "    <tr>\n",
       "      <th>3</th>\n",
       "      <td>0</td>\n",
       "      <td>0</td>\n",
       "      <td>11</td>\n",
       "    </tr>\n",
       "  </tbody>\n",
       "</table>\n",
       "</div>"
      ],
      "text/plain": [
       "Classe prédite  1   2   3\n",
       "Classe réelle            \n",
       "1               7   0   0\n",
       "2               0  17   1\n",
       "3               0   0  11"
      ]
     },
     "execution_count": 21,
     "metadata": {},
     "output_type": "execute_result"
    }
   ],
   "source": [
    "#Prédiction des features test et création de la matrice de confusion\n",
    "y_pred = grid_clf.predict(X_test_scaled)\n",
    "pd.crosstab(y_test, y_pred, rownames=['Classe réelle'], colnames=['Classe prédite'])"
   ]
  },
  {
   "cell_type": "markdown",
   "metadata": {},
   "source": [
    "La matrice de confusion est nettement meilleure que celle obtenue au début. Le taux de biens-classés, la sensibilité et la spécificité sont très élevés.\n",
    "Le tuning d'hyperparamètres est donc une étape très utile et essentielle lors de la création de modèles, surtout lorsque l'on a plusieurs hyperparamètres importants, comme les SVM, et n'est donc pas à négliger."
   ]
  },
  {
   "cell_type": "code",
   "execution_count": 22,
   "metadata": {},
   "outputs": [
    {
     "data": {
      "text/plain": [
       "<matplotlib.legend.Legend at 0x1ecd67aefd0>"
      ]
     },
     "execution_count": 22,
     "metadata": {},
     "output_type": "execute_result"
    },
    {
     "data": {
      "image/png": "[encoded data removed]",
      "text/plain": [
       "<Figure size 640x480 with 1 Axes>"
      ]
     },
     "metadata": {},
     "output_type": "display_data"
    }
   ],
   "source": [
    "# Affichage courbe d'apprentissage du modèle\n",
    "from sklearn.model_selection import learning_curve\n",
    "import matplotlib.pyplot as plt\n",
    "%matplotlib inline \n",
    "\n",
    "train_sizes, train_scores, valid_scores = learning_curve(svm.SVC(kernel='linear', C= 1), data, target, train_sizes=[50, 80, 110, 140], cv=5)\n",
    "\n",
    "plt.xlabel(\"Training examples\")\n",
    "plt.ylabel(\"Score\")\n",
    "\n",
    "train_sizes=[50, 70, 80, 100, 110, 118]\n",
    "\n",
    "train_sizes, train_scores, test_scores = learning_curve(\n",
    "    grid_clf, data, target, n_jobs=4, train_sizes=train_sizes)\n",
    "\n",
    "train_scores_mean = np.mean(train_scores, axis=1)\n",
    "train_scores_std = np.std(train_scores, axis=1)\n",
    "test_scores_mean = np.mean(test_scores, axis=1)\n",
    "test_scores_std = np.std(test_scores, axis=1)\n",
    "plt.grid()\n",
    "\n",
    "plt.fill_between(train_sizes, train_scores_mean - train_scores_std,\n",
    "                 train_scores_mean + train_scores_std, alpha=0.1,\n",
    "                 color=\"r\")\n",
    "plt.fill_between(train_sizes, test_scores_mean - test_scores_std,\n",
    "                 test_scores_mean + test_scores_std, alpha=0.1, color=\"g\")\n",
    "plt.plot(train_sizes, train_scores_mean, 'o-', color=\"r\",\n",
    "         label=\"Training score\")\n",
    "plt.plot(train_sizes, test_scores_mean, 'o-', color=\"g\",\n",
    "         label=\"Cross-validation score\")\n",
    "\n",
    "plt.legend(loc=\"best\")"
   ]
  },
  {
   "cell_type": "markdown",
   "metadata": {},
   "source": [
    "Les SVM sont appliqués à de très nombreux domaines. En effet, ces dernières possèdent des fondements mathématiques solides. La prédiction de la classe d'un échantillon donné est une décision rapide. La classification d’un nouvel exemple consiste à voir le signe de la fonction de décision ℎ𝜃(𝑥).\n",
    "De plus, les exemples de test sont comparés juste avec les vecteurs supports et non pas avec tous les exemples d’apprentissage.\n",
    "Cependant, ce modèle de classification est binaire de base d’où la nécessité d’utiliser l’approche un-contre-un. Et plus la quantité d’exemples en entrées est grande plus le calcul matriciel est complexe. Le temps de calcul est élevé lors d’une régularisation des paramètres de la fonction noyau.\n"
   ]
  }
 ],
 "metadata": {
  "kernelspec": {
   "display_name": "projetct",
   "language": "python",
   "name": "python3"
  },
  "language_info": {
   "codemirror_mode": {
    "name": "ipython",
    "version": 3
   },
   "file_extension": ".py",
   "mimetype": "text/x-python",
   "name": "python",
   "nbconvert_exporter": "python",
   "pygments_lexer": "ipython3",
   "version": "3.11.8"
  }
 },
 "nbformat": 4,
 "nbformat_minor": 2
}
